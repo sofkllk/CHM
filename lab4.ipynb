{
  "metadata": {
    "language_info": {
      "codemirror_mode": {
        "name": "python",
        "version": 3
      },
      "file_extension": ".py",
      "mimetype": "text/x-python",
      "name": "python",
      "nbconvert_exporter": "python",
      "pygments_lexer": "ipython3",
      "version": "3.8"
    },
    "kernelspec": {
      "name": "python",
      "display_name": "Python (Pyodide)",
      "language": "python"
    }
  },
  "nbformat_minor": 4,
  "nbformat": 4,
  "cells": [
    {
      "cell_type": "code",
      "source": "import numpy as np \na = np.array([[1,1,1],[0,1,1],[0,0,1]])\nb = np.array([[7,5,3],[0,7,5],[0,0,7]])\nab = a.dot(b)\nba = b.dot(a)\nc = ab - ba\nprint(c)",
      "metadata": {
        "trusted": true
      },
      "execution_count": 4,
      "outputs": [
        {
          "name": "stdout",
          "text": "[[0 0 0]\n [0 0 0]\n [0 0 0]]\n",
          "output_type": "stream"
        }
      ]
    },
    {
      "cell_type": "code",
      "source": "a = np.array([[-1,0,2],[0,1,0],[1,2,-1]])\na_2 = np.linalg.matrix_power(a, 2)\nprint(a_2)",
      "metadata": {
        "trusted": true
      },
      "execution_count": 5,
      "outputs": [
        {
          "name": "stdout",
          "text": "[[ 3  4 -4]\n [ 0  1  0]\n [-2  0  3]]\n",
          "output_type": "stream"
        }
      ]
    },
    {
      "cell_type": "code",
      "source": "a = np.matrix('3 0 7; -4 2 3; -1 1 2') \nb = np.matrix('1; 2; 4') \nc = a.dot(b) \nprint(c)",
      "metadata": {
        "trusted": true
      },
      "execution_count": 6,
      "outputs": [
        {
          "name": "stdout",
          "text": "[[31]\n [12]\n [ 9]]\n",
          "output_type": "stream"
        }
      ]
    },
    {
      "cell_type": "code",
      "source": "a = np.matrix('2 4 5; 1 1 2; 2 4 3') \ndet = np.linalg.det(a)\nprint(\"Визначник = \", det.round(1))",
      "metadata": {
        "trusted": true
      },
      "execution_count": 8,
      "outputs": [
        {
          "name": "stdout",
          "text": "Визначник =  4.0\n",
          "output_type": "stream"
        }
      ]
    },
    {
      "cell_type": "code",
      "source": "a = np.matrix('2 3 4 1; 1 2 3 4; 3 4 1 2; 4 1 2 3')\ndet = np.linalg.det(a)\nprint(\"Визначник = \", det.round(1))",
      "metadata": {
        "trusted": true
      },
      "execution_count": 10,
      "outputs": [
        {
          "name": "stdout",
          "text": "Визначник =  -160.0\n",
          "output_type": "stream"
        }
      ]
    },
    {
      "cell_type": "code",
      "source": "a = np.array([[2,5,7],[6,3,4],[5,-2,-3]])\ninv = np.linalg.inv(a)\nprint('Обернена матриця : ',\"\\n\", inv)",
      "metadata": {
        "trusted": true
      },
      "execution_count": 11,
      "outputs": [
        {
          "name": "stdout",
          "text": "Обернена матриця :  \n [[  1.  -1.   1.]\n [-38.  41. -34.]\n [ 27. -29.  24.]]\n",
          "output_type": "stream"
        }
      ]
    },
    {
      "cell_type": "code",
      "source": "a = np.array([[-2, 3, 1, -1],[3, 2, 1, 4],[1, 2, 3, 4],[0, 2, 3, 3]])\nrank_a = np.linalg.matrix_rank(a)\nprint(rank_a)",
      "metadata": {
        "trusted": true
      },
      "execution_count": 12,
      "outputs": [
        {
          "name": "stdout",
          "text": "3\n",
          "output_type": "stream"
        }
      ]
    },
    {
      "cell_type": "code",
      "source": "a = np.array([[1,-4,0],[2,-3,1],[1,4,2]])\nb = np.array([[-5],[-7],[-1]])\ndef kram(a,b):# метод Крамера\n    det_a = np.linalg.det(a)\n    if det_a != 0:\n        a1 = np.matrix(a)\n        a2 = np.matrix(a)\n        a3 = np.matrix(a)\n        a1[:, 0] = b\n        a2[:, 1] = b\n        a3[:, 2] = b\n        x = np.linalg.det(a1)/det_a\n        y =np.linalg.det(a2)/det_a\n        z= np.linalg.det(a3)/det_a\n        print('x=',x.round(1),'y=',y.round(1),'z=',z.round(1)) \n    else:\n        print(\"Система немає розв'язків, оскільки визначник дорівнює 0 \")\n    return(x,y,z)\nkram(a,b)\nprint(\"Перевірка розв'язку : \",\"\\n\", np.linalg.solve(a,b).round(1))",
      "metadata": {
        "trusted": true
      },
      "execution_count": 13,
      "outputs": [
        {
          "name": "stdout",
          "text": "x= -1.0 y= 1.0 z= -2.0\nПеревірка розв'язку :  \n [[-1.]\n [ 1.]\n [-2.]]\n",
          "output_type": "stream"
        }
      ]
    },
    {
      "cell_type": "code",
      "source": "a = np.array([[1,-4,0],[2,-3,1],[1,4,2]])\nb = np.array([[-5],[-7],[-1]])\ninv_a = np.linalg.inv(a)\nx = inv_a.dot(b)\nprint('X=', x)\nprint(\"Перевірка розв'язання : \",\"\\n\", np.linalg.solve(a,b).round(1))",
      "metadata": {
        "trusted": true
      },
      "execution_count": 14,
      "outputs": [
        {
          "name": "stdout",
          "text": "X= [[-1.]\n [ 1.]\n [-2.]]\nПеревірка розв'язання :  \n [[-1.]\n [ 1.]\n [-2.]]\n",
          "output_type": "stream"
        }
      ]
    },
    {
      "cell_type": "code",
      "source": "import random as rd\nn = 5\nm = 3\na = np.zeros((n, m), dtype=int)\nfor i in range(n): \n    for j in range(m):\n        a[i][j] = rd.randint(1, 20)\n\nprint(a)\n\nfor i in range(n): \n    suma_row = 0\n    for j in range(m):\n        suma_row += a[i][j]\n    average_row = suma_row / m\n    print(f\"Середнє значення {i+1} рядка: {(average_row).round(1)}\")\n\nfor j in range(m): \n    suma_column = 0\n    for i in range(n):\n        suma_column += a[i][j]\n    average_column = suma_column / n\n    print(f\"Середнє значення {j+1} стовпця: {(average_column).round(1)}\")\n",
      "metadata": {
        "trusted": true
      },
      "execution_count": 15,
      "outputs": [
        {
          "name": "stdout",
          "text": "[[19  2 20]\n [13 12  5]\n [12  1  5]\n [ 9 19  1]\n [13 20 16]]\nСереднє значення 1 рядка: 13.7\nСереднє значення 2 рядка: 10.0\nСереднє значення 3 рядка: 6.0\nСереднє значення 4 рядка: 9.7\nСереднє значення 5 рядка: 16.3\nСереднє значення 1 стовпця: 13.2\nСереднє значення 2 стовпця: 10.8\nСереднє значення 3 стовпця: 9.4\n",
          "output_type": "stream"
        }
      ]
    },
    {
      "cell_type": "code",
      "source": "",
      "metadata": {},
      "execution_count": null,
      "outputs": []
    }
  ]
}