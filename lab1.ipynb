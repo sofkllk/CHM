{
  "metadata": {
    "language_info": {
      "codemirror_mode": {
        "name": "python",
        "version": 3
      },
      "file_extension": ".py",
      "mimetype": "text/x-python",
      "name": "python",
      "nbconvert_exporter": "python",
      "pygments_lexer": "ipython3",
      "version": "3.8"
    },
    "kernelspec": {
      "name": "python",
      "display_name": "Python (Pyodide)",
      "language": "python"
    }
  },
  "nbformat_minor": 4,
  "nbformat": 4,
  "cells": [
    {
      "cell_type": "code",
      "source": "import math\nx1 = 31\nx1_1 = 5.56\nx2 = 13/17\nx2_2 = 0.764\ndef precision(x1, x1_1, x2, x2_2):\n    rel_error_x1 = abs((math.sqrt(x1) - x1_1)/math.sqrt(x1))\n    rel_error_x2 = abs((x2 - x2_2)/x2)\n    if(rel_error_x1 > rel_error_x2):\n        print(\"Друга рівність точніше з відносною похибкою:\", rel_error_x2) \n    elif(rel_error_x1 < rel_error_x2):\n        print(\"Перша рівність точніше з відносною похибкою:\", rel_error_x1) \n    else:\n        print(\"Обидві рівності мають однакову точність з відносною похибкою:\", rel_error_x1)\nprecision(x1, x1_1, x2, x2_2)",
      "metadata": {
        "trusted": true
      },
      "execution_count": 4,
      "outputs": [
        {
          "name": "stdout",
          "text": "Друга рівність точніше з відносною похибкою: 0.0009230769230768386\n",
          "output_type": "stream"
        }
      ]
    }
  ]
}