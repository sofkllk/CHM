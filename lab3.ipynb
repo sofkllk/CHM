{
  "metadata": {
    "language_info": {
      "codemirror_mode": {
        "name": "python",
        "version": 3
      },
      "file_extension": ".py",
      "mimetype": "text/x-python",
      "name": "python",
      "nbconvert_exporter": "python",
      "pygments_lexer": "ipython3",
      "version": "3.8"
    },
    "kernelspec": {
      "name": "python",
      "display_name": "Python (Pyodide)",
      "language": "python"
    }
  },
  "nbformat_minor": 4,
  "nbformat": 4,
  "cells": [
    {
      "cell_type": "code",
      "source": "import math\nimport numpy as np\nfrom scipy.misc import derivative \n\ndef f(x): \n   return 3*pow(x, 4) - 4*pow(x,3) + pow(x, 2)  - 2*x - 5 \n\neps=0.0001 \nsegments = [[-1, 0],[1, 2]] \n\nfor a, b in segments: \n    print(f'Відрізки, знайдені у попередній практичній:  [{a}, {b}]') \n\ndef nuton(a,b,eps): # метод Ньютона\n    df2 = derivative(f, b, n = 2) \n    if (f(b)*df2>0): \n        xi = b \n    else: \n        xi = a \n    df = derivative(f,xi, n= 1) \n    xi_1 = xi - f(xi)/df \n    while (abs(xi_1 - xi)>eps):  \n        xi = xi_1 \n        xi_1 = xi - f(xi)/df \n    return print ('Розв’язок методом Ньютона x = ', xi_1) \n    \ndef komb(a,b,eps): # Комбінований метод \n    if (derivative(f, a, n = 1)*derivative(f, a, n = 2)>0): \n        a0 = a \n        b0 = b \n    else: \n        a0 = b \n        b0 = a \n    ai = a0 \n    bi = b0 \n    while abs(ai-bi)>eps:    \n        ai_1 = ai -f(ai)*(bi - ai)/(f(bi) - f(ai)) \n        bi_1 = bi - f(bi)/derivative(f,bi, n= 1)  \n        ai = ai_1 \n        bi = bi_1 \n    x = (ai_1+bi_1)/2 \n    return print('Розв’язок комбінованим методом x = ', x) \n\nfor i in segments:\n    a = i[0]\n    b = i[1]\n    print (f'Розв’язок нелінійного рівняння на відрізку [{a}, {b}]')\n    nuton(a,b,eps)\n    komb(a,b,eps)",
      "metadata": {
        "trusted": true
      },
      "execution_count": 3,
      "outputs": [
        {
          "name": "stdout",
          "text": "Відрізки, знайдені у попередній практичній:  [-1, 0]\nВідрізки, знайдені у попередній практичній:  [1, 2]\nРозв’язок нелінійного рівняння на відрізку [-1, 0]\n",
          "output_type": "stream"
        },
        {
          "name": "stderr",
          "text": "<ipython-input-3-8bcc89f3bd11>:15: DeprecationWarning: scipy.misc.derivative is deprecated in SciPy v1.10.0; and will be completely removed in SciPy v1.12.0. You may consider using findiff: https://github.com/maroba/findiff or numdifftools: https://github.com/pbrod/numdifftools\n  df2 = derivative(f, b, n = 2)\n<ipython-input-3-8bcc89f3bd11>:20: DeprecationWarning: scipy.misc.derivative is deprecated in SciPy v1.10.0; and will be completely removed in SciPy v1.12.0. You may consider using findiff: https://github.com/maroba/findiff or numdifftools: https://github.com/pbrod/numdifftools\n  df = derivative(f,xi, n= 1)\n",
          "output_type": "stream"
        },
        {
          "name": "stdout",
          "text": "Розв’язок методом Ньютона x =  -0.7693122353837931\n",
          "output_type": "stream"
        },
        {
          "name": "stderr",
          "text": "<ipython-input-3-8bcc89f3bd11>:28: DeprecationWarning: scipy.misc.derivative is deprecated in SciPy v1.10.0; and will be completely removed in SciPy v1.12.0. You may consider using findiff: https://github.com/maroba/findiff or numdifftools: https://github.com/pbrod/numdifftools\n  if (derivative(f, a, n = 1)*derivative(f, a, n = 2)>0):\n<ipython-input-3-8bcc89f3bd11>:38: DeprecationWarning: scipy.misc.derivative is deprecated in SciPy v1.10.0; and will be completely removed in SciPy v1.12.0. You may consider using findiff: https://github.com/maroba/findiff or numdifftools: https://github.com/pbrod/numdifftools\n  bi_1 = bi - f(bi)/derivative(f,bi, n= 1)\n",
          "output_type": "stream"
        },
        {
          "name": "stdout",
          "text": "Розв’язок комбінованим методом x =  -0.769178005269942\nРозв’язок нелінійного рівняння на відрізку [1, 2]\nРозв’язок методом Ньютона x =  1.704257334759688\nРозв’язок комбінованим методом x =  1.704138394439878\n",
          "output_type": "stream"
        }
      ]
    },
    {
      "cell_type": "code",
      "source": "",
      "metadata": {},
      "execution_count": null,
      "outputs": []
    }
  ]
}